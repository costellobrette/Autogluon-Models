{
 "cells": [
  {
   "cell_type": "markdown",
   "id": "17b6bca3-b653-431f-9787-476a715a7765",
   "metadata": {},
   "source": [
    "# Netflix Autogluon Regression"
   ]
  },
  {
   "cell_type": "markdown",
   "id": "627be014-99b2-4cf2-a03a-cf44508d0514",
   "metadata": {},
   "source": [
    "## Introduction"
   ]
  },
  {
   "cell_type": "markdown",
   "id": "5e841754-d04c-468b-9ce8-1130ed43f172",
   "metadata": {},
   "source": [
    "The data in this notebook is sourced from my family's Netflix account that has been active for over a decade. The goal of this autogluon model will be to predict whether each row (viewing session) was either a 'Movie' or a 'Show' from the 'Type' column under the Netflix profile 'Brette'. Once the data is ready for analysis, it will be passed through the autogluon tabular predictor module creating a regression model. This model will predict the 'Type' category for each viewing session."
   ]
  },
  {
   "cell_type": "markdown",
   "id": "a082c2ad-0276-43af-af74-32ac31a473b2",
   "metadata": {},
   "source": [
    "### Importing Libraries"
   ]
  },
  {
   "cell_type": "code",
   "execution_count": 33,
   "id": "550a4731-68d8-4231-a91f-cab747cc18ae",
   "metadata": {},
   "outputs": [],
   "source": [
    "import pandas as pd\n",
    "import numpy as np\n",
    "import seaborn as sns\n",
    "import matplotlib.pyplot as plt\n",
    "import calendar"
   ]
  },
  {
   "cell_type": "markdown",
   "id": "7978ef38-9a9b-441f-9e7f-f716d92228bf",
   "metadata": {},
   "source": [
    "### Loading Data"
   ]
  },
  {
   "cell_type": "code",
   "execution_count": 34,
   "id": "dbbc2696-f4a7-4168-b72c-70fc6ae0939a",
   "metadata": {},
   "outputs": [
    {
     "data": {
      "text/html": [
       "<div>\n",
       "<style scoped>\n",
       "    .dataframe tbody tr th:only-of-type {\n",
       "        vertical-align: middle;\n",
       "    }\n",
       "\n",
       "    .dataframe tbody tr th {\n",
       "        vertical-align: top;\n",
       "    }\n",
       "\n",
       "    .dataframe thead th {\n",
       "        text-align: right;\n",
       "    }\n",
       "</style>\n",
       "<table border=\"1\" class=\"dataframe\">\n",
       "  <thead>\n",
       "    <tr style=\"text-align: right;\">\n",
       "      <th></th>\n",
       "      <th>Date</th>\n",
       "      <th>Profile Name</th>\n",
       "      <th>Title</th>\n",
       "      <th>Type</th>\n",
       "      <th>Genre</th>\n",
       "      <th>Duration Seconds</th>\n",
       "      <th>Device Type</th>\n",
       "    </tr>\n",
       "  </thead>\n",
       "  <tbody>\n",
       "    <tr>\n",
       "      <th>0</th>\n",
       "      <td>2013-12-29</td>\n",
       "      <td>Sharleen</td>\n",
       "      <td>Jackass: The Movie</td>\n",
       "      <td>Movie</td>\n",
       "      <td>Comedy</td>\n",
       "      <td>23</td>\n",
       "      <td>Apple TV 3 (revised)</td>\n",
       "    </tr>\n",
       "    <tr>\n",
       "      <th>1</th>\n",
       "      <td>2013-12-29</td>\n",
       "      <td>Sharleen</td>\n",
       "      <td>Runaway Bride</td>\n",
       "      <td>Movie</td>\n",
       "      <td>Romantic-Comedy</td>\n",
       "      <td>3610</td>\n",
       "      <td>Apple TV 3 (revised)</td>\n",
       "    </tr>\n",
       "    <tr>\n",
       "      <th>2</th>\n",
       "      <td>2013-12-29</td>\n",
       "      <td>Sharleen</td>\n",
       "      <td>The Benchwarmers</td>\n",
       "      <td>Movie</td>\n",
       "      <td>Comedy</td>\n",
       "      <td>4696</td>\n",
       "      <td>Apple TV 3 (revised)</td>\n",
       "    </tr>\n",
       "    <tr>\n",
       "      <th>3</th>\n",
       "      <td>2013-12-29</td>\n",
       "      <td>Sharleen</td>\n",
       "      <td>This Means War</td>\n",
       "      <td>Movie</td>\n",
       "      <td>Romantic-Comedy</td>\n",
       "      <td>362</td>\n",
       "      <td>Apple TV 3 (revised)</td>\n",
       "    </tr>\n",
       "    <tr>\n",
       "      <th>4</th>\n",
       "      <td>2014-01-01</td>\n",
       "      <td>Sharleen</td>\n",
       "      <td>Bloodline</td>\n",
       "      <td>Show</td>\n",
       "      <td>Thriller</td>\n",
       "      <td>1168</td>\n",
       "      <td>Bell Canada Mediaroom Bell Canada Mediaroom</td>\n",
       "    </tr>\n",
       "    <tr>\n",
       "      <th>...</th>\n",
       "      <td>...</td>\n",
       "      <td>...</td>\n",
       "      <td>...</td>\n",
       "      <td>...</td>\n",
       "      <td>...</td>\n",
       "      <td>...</td>\n",
       "      <td>...</td>\n",
       "    </tr>\n",
       "    <tr>\n",
       "      <th>8447</th>\n",
       "      <td>2024-10-16</td>\n",
       "      <td>Brette</td>\n",
       "      <td>Monsters</td>\n",
       "      <td>Show</td>\n",
       "      <td>Drama-Crime</td>\n",
       "      <td>5468</td>\n",
       "      <td>Netflix Chrome MAC (Cadmium) HTML 5</td>\n",
       "    </tr>\n",
       "    <tr>\n",
       "      <th>8448</th>\n",
       "      <td>2024-10-17</td>\n",
       "      <td>Brette</td>\n",
       "      <td>Monsters</td>\n",
       "      <td>Show</td>\n",
       "      <td>Drama-Crime</td>\n",
       "      <td>4974</td>\n",
       "      <td>Netflix Chrome MAC (Cadmium) HTML 5</td>\n",
       "    </tr>\n",
       "    <tr>\n",
       "      <th>8449</th>\n",
       "      <td>2024-10-18</td>\n",
       "      <td>Brette</td>\n",
       "      <td>Monsters</td>\n",
       "      <td>Show</td>\n",
       "      <td>Drama-Crime</td>\n",
       "      <td>2038</td>\n",
       "      <td>Netflix Chrome MAC (Cadmium) HTML 5</td>\n",
       "    </tr>\n",
       "    <tr>\n",
       "      <th>8450</th>\n",
       "      <td>2024-10-18</td>\n",
       "      <td>Brette</td>\n",
       "      <td>The Menendez Brothers</td>\n",
       "      <td>Movie</td>\n",
       "      <td>Documentary</td>\n",
       "      <td>32</td>\n",
       "      <td>Netflix Chrome MAC (Cadmium) HTML 5</td>\n",
       "    </tr>\n",
       "    <tr>\n",
       "      <th>8451</th>\n",
       "      <td>2024-10-20</td>\n",
       "      <td>Chase</td>\n",
       "      <td>Lucifer</td>\n",
       "      <td>Show</td>\n",
       "      <td>Drama-Crime</td>\n",
       "      <td>842</td>\n",
       "      <td>Apple iPhone 14 iPhone</td>\n",
       "    </tr>\n",
       "  </tbody>\n",
       "</table>\n",
       "<p>8452 rows × 7 columns</p>\n",
       "</div>"
      ],
      "text/plain": [
       "            Date Profile Name                  Title   Type            Genre  \\\n",
       "0     2013-12-29     Sharleen     Jackass: The Movie  Movie           Comedy   \n",
       "1     2013-12-29     Sharleen          Runaway Bride  Movie  Romantic-Comedy   \n",
       "2     2013-12-29     Sharleen       The Benchwarmers  Movie           Comedy   \n",
       "3     2013-12-29     Sharleen         This Means War  Movie  Romantic-Comedy   \n",
       "4     2014-01-01     Sharleen              Bloodline   Show         Thriller   \n",
       "...          ...          ...                    ...    ...              ...   \n",
       "8447  2024-10-16       Brette               Monsters   Show      Drama-Crime   \n",
       "8448  2024-10-17       Brette               Monsters   Show      Drama-Crime   \n",
       "8449  2024-10-18       Brette               Monsters   Show      Drama-Crime   \n",
       "8450  2024-10-18       Brette  The Menendez Brothers  Movie      Documentary   \n",
       "8451  2024-10-20        Chase                Lucifer   Show      Drama-Crime   \n",
       "\n",
       "      Duration Seconds                                  Device Type  \n",
       "0                   23                         Apple TV 3 (revised)  \n",
       "1                 3610                         Apple TV 3 (revised)  \n",
       "2                 4696                         Apple TV 3 (revised)  \n",
       "3                  362                         Apple TV 3 (revised)  \n",
       "4                 1168  Bell Canada Mediaroom Bell Canada Mediaroom  \n",
       "...                ...                                          ...  \n",
       "8447              5468          Netflix Chrome MAC (Cadmium) HTML 5  \n",
       "8448              4974          Netflix Chrome MAC (Cadmium) HTML 5  \n",
       "8449              2038          Netflix Chrome MAC (Cadmium) HTML 5  \n",
       "8450                32          Netflix Chrome MAC (Cadmium) HTML 5  \n",
       "8451               842                       Apple iPhone 14 iPhone  \n",
       "\n",
       "[8452 rows x 7 columns]"
      ]
     },
     "execution_count": 34,
     "metadata": {},
     "output_type": "execute_result"
    }
   ],
   "source": [
    "data = pd.read_csv('Netflix.csv')\n",
    "data"
   ]
  },
  {
   "cell_type": "markdown",
   "id": "74a6d9c0-5a2b-427d-bd53-932c7310a11e",
   "metadata": {},
   "source": [
    "## Cleaning & EDA"
   ]
  },
  {
   "cell_type": "markdown",
   "id": "41ffbd4d-2793-4574-976d-019c248db1e2",
   "metadata": {},
   "source": [
    "To start I will check the dataframe for null values:"
   ]
  },
  {
   "cell_type": "code",
   "execution_count": 35,
   "id": "a90854bc-5e89-4d9b-a87f-d1dd87c0caff",
   "metadata": {},
   "outputs": [
    {
     "data": {
      "text/plain": [
       "Date                0\n",
       "Profile Name        0\n",
       "Title               0\n",
       "Type                0\n",
       "Genre               0\n",
       "Duration Seconds    0\n",
       "Device Type         0\n",
       "dtype: int64"
      ]
     },
     "execution_count": 35,
     "metadata": {},
     "output_type": "execute_result"
    }
   ],
   "source": [
    "data.isnull().sum()"
   ]
  },
  {
   "cell_type": "markdown",
   "id": "209256b7-8932-4068-bc28-57f77e48ff9e",
   "metadata": {},
   "source": [
    "Since there are no null values in the data, I will begin creating the final dataframe used for the analysis."
   ]
  },
  {
   "cell_type": "markdown",
   "id": "2bcc7c96-3e17-4d7b-9f00-aae76e54d2d4",
   "metadata": {},
   "source": [
    "I will now separate out the 'Date' column so that the autogluon tabular model will be able to make better predictions."
   ]
  },
  {
   "cell_type": "code",
   "execution_count": 36,
   "id": "f012d1f7-6682-4680-8718-2faa672a8373",
   "metadata": {},
   "outputs": [],
   "source": [
    "data['Date'] = pd.to_datetime(data['Date']) #declaring the 'Date' column as a 'datetime' datatype using pandas"
   ]
  },
  {
   "cell_type": "code",
   "execution_count": 37,
   "id": "c068524b-43ea-4f1b-b15c-3800cc12b13c",
   "metadata": {},
   "outputs": [],
   "source": [
    "data['Year'] = data['Date'].dt.year #taking the year from the 'Date' column and creating a column of it's own\n",
    "data['Month'] = data['Date'].dt.month #taking the month from the 'Date' column and creating a column of it's own\n",
    "data['Day'] = data['Date'].dt.day #taking the day from the 'Date' column and creating a column of it's own"
   ]
  },
  {
   "cell_type": "code",
   "execution_count": 38,
   "id": "5e4e0454-654d-4807-a1f2-c8cd006bb4db",
   "metadata": {},
   "outputs": [],
   "source": [
    "data['Month Name'] = data['Month'].apply(lambda x: calendar.month_name[x][:3]) #Creating a new column with the name of the month displayed for visuals"
   ]
  },
  {
   "cell_type": "code",
   "execution_count": 39,
   "id": "3c9aab83-7f08-415c-a233-74e2e44f4e01",
   "metadata": {},
   "outputs": [],
   "source": [
    "cols = ['Year','Month', 'Month Name', 'Day'] + [col for col in data.columns if col not in ['Year', 'Month','Month Name','Day']] #telling the df to place the new columns at the beginning of the dataframe \n",
    "data = data[cols] "
   ]
  },
  {
   "cell_type": "code",
   "execution_count": 40,
   "id": "5187a95d-6427-4e09-9aef-4aec351a6962",
   "metadata": {},
   "outputs": [],
   "source": [
    "data = data.drop(columns = 'Date') # dropping the column 'Date' once we have the new columns"
   ]
  },
  {
   "cell_type": "markdown",
   "id": "efd875fd-dc59-4013-9ef3-233b868a8dd2",
   "metadata": {},
   "source": [
    "Now that the 'Year','Month', 'Month Name', and 'Day' columns are created I will convert the 'Duration_Seconds' columns to minutes for easier analysis"
   ]
  },
  {
   "cell_type": "code",
   "execution_count": 41,
   "id": "5beb76da-0e4f-4ecc-bc55-3372b7720002",
   "metadata": {},
   "outputs": [],
   "source": [
    "data['Minutes'] = data['Duration Seconds'] / 60 #Dividing by 60 to convert to minutes"
   ]
  },
  {
   "cell_type": "code",
   "execution_count": 42,
   "id": "972e5ee5-ab08-455b-b772-267e83e84c16",
   "metadata": {},
   "outputs": [],
   "source": [
    "data = data.drop(columns='Duration Seconds') #Dropping the 'Duration Seconds' column"
   ]
  },
  {
   "cell_type": "markdown",
   "id": "f514221f-7b17-4619-b16a-0730b10b99ec",
   "metadata": {},
   "source": [
    "##### Changing dtypes for final dataframe"
   ]
  },
  {
   "cell_type": "code",
   "execution_count": 43,
   "id": "c928d3bc-97ab-4816-8464-ec792e4d1036",
   "metadata": {},
   "outputs": [
    {
     "name": "stdout",
     "output_type": "stream",
     "text": [
      "<class 'pandas.core.frame.DataFrame'>\n",
      "RangeIndex: 8452 entries, 0 to 8451\n",
      "Data columns (total 10 columns):\n",
      " #   Column        Non-Null Count  Dtype  \n",
      "---  ------        --------------  -----  \n",
      " 0   Year          8452 non-null   int32  \n",
      " 1   Month         8452 non-null   int32  \n",
      " 2   Month Name    8452 non-null   object \n",
      " 3   Day           8452 non-null   int32  \n",
      " 4   Profile Name  8452 non-null   object \n",
      " 5   Title         8452 non-null   object \n",
      " 6   Type          8452 non-null   object \n",
      " 7   Genre         8452 non-null   object \n",
      " 8   Device Type   8452 non-null   object \n",
      " 9   Minutes       8452 non-null   float64\n",
      "dtypes: float64(1), int32(3), object(6)\n",
      "memory usage: 561.4+ KB\n"
     ]
    }
   ],
   "source": [
    "data.info()"
   ]
  },
  {
   "cell_type": "markdown",
   "id": "873edd72-f963-4341-b874-0b1a1f684e2f",
   "metadata": {},
   "source": [
    "For the module to properly read the features I need to convert the text fields to 'category' dtypes"
   ]
  },
  {
   "cell_type": "code",
   "execution_count": 44,
   "id": "ae737444-7985-4e7b-874c-a4c472304efd",
   "metadata": {},
   "outputs": [],
   "source": [
    "columns_to_convert = [['Month Name','Profile Name','Title','Type','Genre','Device Type']] #specifying the columns to be converted\n",
    "for cols in columns_to_convert:\n",
    "    data[cols] = data[cols].astype('category') #changing all the columns listed in columns_to_convert to the dtype 'category'"
   ]
  },
  {
   "cell_type": "code",
   "execution_count": 45,
   "id": "c379adc0-e7a4-47c8-8b95-a60c4d9adb14",
   "metadata": {},
   "outputs": [
    {
     "name": "stdout",
     "output_type": "stream",
     "text": [
      "<class 'pandas.core.frame.DataFrame'>\n",
      "RangeIndex: 8452 entries, 0 to 8451\n",
      "Data columns (total 10 columns):\n",
      " #   Column        Non-Null Count  Dtype   \n",
      "---  ------        --------------  -----   \n",
      " 0   Year          8452 non-null   int32   \n",
      " 1   Month         8452 non-null   int32   \n",
      " 2   Month Name    8452 non-null   category\n",
      " 3   Day           8452 non-null   int32   \n",
      " 4   Profile Name  8452 non-null   category\n",
      " 5   Title         8452 non-null   category\n",
      " 6   Type          8452 non-null   category\n",
      " 7   Genre         8452 non-null   category\n",
      " 8   Device Type   8452 non-null   category\n",
      " 9   Minutes       8452 non-null   float64 \n",
      "dtypes: category(6), float64(1), int32(3)\n",
      "memory usage: 305.0 KB\n"
     ]
    }
   ],
   "source": [
    "data.info()"
   ]
  },
  {
   "cell_type": "markdown",
   "id": "ae72ad82-e31e-49db-a444-7063ecc392ec",
   "metadata": {},
   "source": [
    "For the model to be a regression, I will change the 'Type' column to a binary column, 1 being for the type 'Show', and 0 for 'Movie'"
   ]
  },
  {
   "cell_type": "code",
   "execution_count": 46,
   "id": "fa640344-0848-4611-b254-4b042b689e5c",
   "metadata": {},
   "outputs": [],
   "source": [
    "data['type_target'] = np.where(data['Type'] == 'Show', 1, 0) #Creating type_target, where the row says 'Show',1 where it says 'Movie', 0"
   ]
  },
  {
   "cell_type": "code",
   "execution_count": 47,
   "id": "8276440e-2293-4f14-9484-a9f8504267d7",
   "metadata": {},
   "outputs": [],
   "source": [
    "data = data.drop(columns='Type') #dropping the category 'Type' column"
   ]
  },
  {
   "cell_type": "markdown",
   "id": "5c7ecea9-cafe-44d3-b94e-15146903b03e",
   "metadata": {},
   "source": [
    "Lastly, to see the rows that contain only the profile name 'Brette' I will filter the dataframe and pass it through to 'data'"
   ]
  },
  {
   "cell_type": "code",
   "execution_count": 48,
   "id": "7e127a5f-6171-4fa8-b6dd-7010bf51dada",
   "metadata": {},
   "outputs": [],
   "source": [
    "data = data[data['Profile Name'] == 'Brette']"
   ]
  },
  {
   "cell_type": "markdown",
   "id": "7fbdf685-a456-4fc2-aaad-f93b64fd8903",
   "metadata": {},
   "source": [
    "### Final DataFrame"
   ]
  },
  {
   "cell_type": "markdown",
   "id": "59bb9a4a-4027-49c8-9170-db3c78b0a74a",
   "metadata": {},
   "source": [
    "#### Now that we have the final dataframe, below are the feature definitions:"
   ]
  },
  {
   "cell_type": "markdown",
   "id": "bb69fd6e-b73c-4b5d-b11c-f1984ced03e2",
   "metadata": {},
   "source": [
    "- **Year:** The year the show or movie was watched by my Netflix account, **dtype:** int32,\n",
    "+ **Month:** The month the show or movie was watched by my Netflix account, **dtype:** int32,\n",
    "- **Month Name:** The name of the month the show or movie was watched by my Netflix account, **dtype:** category,\n",
    "+ **Day:** The day the show or movie was watched by my Netflix account, **dtype:** int32,\n",
    "- **Profile Name:** The name of the profile that watched Netflix content, in this dataframe there is only 'Brette', **dtype:** category,\n",
    "+ **Type:** Whether the content watched was either a 'Show' or 'Movie', **dtype:** category,\n",
    "- **Genre:** The category that the movie or show is under on Netflix, **dtype:** category,\n",
    "+ **Device Type:** The device that the movie or show was streamed on while watching, **dtype:** category,\n",
    "- **Minutes:** The length of time that the show or movie was watched in one sitting period, **dtype:** float64"
   ]
  },
  {
   "cell_type": "code",
   "execution_count": 49,
   "id": "a1e18e90-a81d-44a9-a2df-1b1264339903",
   "metadata": {},
   "outputs": [
    {
     "data": {
      "text/html": [
       "<div>\n",
       "<style scoped>\n",
       "    .dataframe tbody tr th:only-of-type {\n",
       "        vertical-align: middle;\n",
       "    }\n",
       "\n",
       "    .dataframe tbody tr th {\n",
       "        vertical-align: top;\n",
       "    }\n",
       "\n",
       "    .dataframe thead th {\n",
       "        text-align: right;\n",
       "    }\n",
       "</style>\n",
       "<table border=\"1\" class=\"dataframe\">\n",
       "  <thead>\n",
       "    <tr style=\"text-align: right;\">\n",
       "      <th></th>\n",
       "      <th>Year</th>\n",
       "      <th>Month</th>\n",
       "      <th>Month Name</th>\n",
       "      <th>Day</th>\n",
       "      <th>Profile Name</th>\n",
       "      <th>Title</th>\n",
       "      <th>Genre</th>\n",
       "      <th>Device Type</th>\n",
       "      <th>Minutes</th>\n",
       "      <th>type_target</th>\n",
       "    </tr>\n",
       "  </thead>\n",
       "  <tbody>\n",
       "    <tr>\n",
       "      <th>157</th>\n",
       "      <td>2014</td>\n",
       "      <td>3</td>\n",
       "      <td>Mar</td>\n",
       "      <td>10</td>\n",
       "      <td>Brette</td>\n",
       "      <td>Freaks and Geeks</td>\n",
       "      <td>Drama-Comedy</td>\n",
       "      <td>PC</td>\n",
       "      <td>30.766667</td>\n",
       "      <td>1</td>\n",
       "    </tr>\n",
       "    <tr>\n",
       "      <th>158</th>\n",
       "      <td>2014</td>\n",
       "      <td>3</td>\n",
       "      <td>Mar</td>\n",
       "      <td>10</td>\n",
       "      <td>Brette</td>\n",
       "      <td>Friday Night Lights</td>\n",
       "      <td>Drama</td>\n",
       "      <td>PC</td>\n",
       "      <td>0.133333</td>\n",
       "      <td>0</td>\n",
       "    </tr>\n",
       "    <tr>\n",
       "      <th>160</th>\n",
       "      <td>2014</td>\n",
       "      <td>3</td>\n",
       "      <td>Mar</td>\n",
       "      <td>11</td>\n",
       "      <td>Brette</td>\n",
       "      <td>Freaks and Geeks</td>\n",
       "      <td>Drama-Comedy</td>\n",
       "      <td>PC</td>\n",
       "      <td>39.633333</td>\n",
       "      <td>1</td>\n",
       "    </tr>\n",
       "    <tr>\n",
       "      <th>162</th>\n",
       "      <td>2014</td>\n",
       "      <td>3</td>\n",
       "      <td>Mar</td>\n",
       "      <td>13</td>\n",
       "      <td>Brette</td>\n",
       "      <td>American Horror Story</td>\n",
       "      <td>Horror</td>\n",
       "      <td>Apple TV 3 (revised)</td>\n",
       "      <td>90.516667</td>\n",
       "      <td>1</td>\n",
       "    </tr>\n",
       "    <tr>\n",
       "      <th>165</th>\n",
       "      <td>2014</td>\n",
       "      <td>3</td>\n",
       "      <td>Mar</td>\n",
       "      <td>14</td>\n",
       "      <td>Brette</td>\n",
       "      <td>American Horror Story</td>\n",
       "      <td>Horror</td>\n",
       "      <td>Apple TV 3 (revised)</td>\n",
       "      <td>206.400000</td>\n",
       "      <td>1</td>\n",
       "    </tr>\n",
       "    <tr>\n",
       "      <th>...</th>\n",
       "      <td>...</td>\n",
       "      <td>...</td>\n",
       "      <td>...</td>\n",
       "      <td>...</td>\n",
       "      <td>...</td>\n",
       "      <td>...</td>\n",
       "      <td>...</td>\n",
       "      <td>...</td>\n",
       "      <td>...</td>\n",
       "      <td>...</td>\n",
       "    </tr>\n",
       "    <tr>\n",
       "      <th>8444</th>\n",
       "      <td>2024</td>\n",
       "      <td>10</td>\n",
       "      <td>Oct</td>\n",
       "      <td>15</td>\n",
       "      <td>Brette</td>\n",
       "      <td>Monsters</td>\n",
       "      <td>Drama-Crime</td>\n",
       "      <td>Netflix Chrome MAC (Cadmium) HTML 5</td>\n",
       "      <td>183.916667</td>\n",
       "      <td>1</td>\n",
       "    </tr>\n",
       "    <tr>\n",
       "      <th>8447</th>\n",
       "      <td>2024</td>\n",
       "      <td>10</td>\n",
       "      <td>Oct</td>\n",
       "      <td>16</td>\n",
       "      <td>Brette</td>\n",
       "      <td>Monsters</td>\n",
       "      <td>Drama-Crime</td>\n",
       "      <td>Netflix Chrome MAC (Cadmium) HTML 5</td>\n",
       "      <td>91.133333</td>\n",
       "      <td>1</td>\n",
       "    </tr>\n",
       "    <tr>\n",
       "      <th>8448</th>\n",
       "      <td>2024</td>\n",
       "      <td>10</td>\n",
       "      <td>Oct</td>\n",
       "      <td>17</td>\n",
       "      <td>Brette</td>\n",
       "      <td>Monsters</td>\n",
       "      <td>Drama-Crime</td>\n",
       "      <td>Netflix Chrome MAC (Cadmium) HTML 5</td>\n",
       "      <td>82.900000</td>\n",
       "      <td>1</td>\n",
       "    </tr>\n",
       "    <tr>\n",
       "      <th>8449</th>\n",
       "      <td>2024</td>\n",
       "      <td>10</td>\n",
       "      <td>Oct</td>\n",
       "      <td>18</td>\n",
       "      <td>Brette</td>\n",
       "      <td>Monsters</td>\n",
       "      <td>Drama-Crime</td>\n",
       "      <td>Netflix Chrome MAC (Cadmium) HTML 5</td>\n",
       "      <td>33.966667</td>\n",
       "      <td>1</td>\n",
       "    </tr>\n",
       "    <tr>\n",
       "      <th>8450</th>\n",
       "      <td>2024</td>\n",
       "      <td>10</td>\n",
       "      <td>Oct</td>\n",
       "      <td>18</td>\n",
       "      <td>Brette</td>\n",
       "      <td>The Menendez Brothers</td>\n",
       "      <td>Documentary</td>\n",
       "      <td>Netflix Chrome MAC (Cadmium) HTML 5</td>\n",
       "      <td>0.533333</td>\n",
       "      <td>0</td>\n",
       "    </tr>\n",
       "  </tbody>\n",
       "</table>\n",
       "<p>3335 rows × 10 columns</p>\n",
       "</div>"
      ],
      "text/plain": [
       "      Year  Month Month Name  Day Profile Name                  Title  \\\n",
       "157   2014      3        Mar   10       Brette       Freaks and Geeks   \n",
       "158   2014      3        Mar   10       Brette    Friday Night Lights   \n",
       "160   2014      3        Mar   11       Brette       Freaks and Geeks   \n",
       "162   2014      3        Mar   13       Brette  American Horror Story   \n",
       "165   2014      3        Mar   14       Brette  American Horror Story   \n",
       "...    ...    ...        ...  ...          ...                    ...   \n",
       "8444  2024     10        Oct   15       Brette               Monsters   \n",
       "8447  2024     10        Oct   16       Brette               Monsters   \n",
       "8448  2024     10        Oct   17       Brette               Monsters   \n",
       "8449  2024     10        Oct   18       Brette               Monsters   \n",
       "8450  2024     10        Oct   18       Brette  The Menendez Brothers   \n",
       "\n",
       "             Genre                          Device Type     Minutes  \\\n",
       "157   Drama-Comedy                                   PC   30.766667   \n",
       "158          Drama                                   PC    0.133333   \n",
       "160   Drama-Comedy                                   PC   39.633333   \n",
       "162         Horror                 Apple TV 3 (revised)   90.516667   \n",
       "165         Horror                 Apple TV 3 (revised)  206.400000   \n",
       "...            ...                                  ...         ...   \n",
       "8444   Drama-Crime  Netflix Chrome MAC (Cadmium) HTML 5  183.916667   \n",
       "8447   Drama-Crime  Netflix Chrome MAC (Cadmium) HTML 5   91.133333   \n",
       "8448   Drama-Crime  Netflix Chrome MAC (Cadmium) HTML 5   82.900000   \n",
       "8449   Drama-Crime  Netflix Chrome MAC (Cadmium) HTML 5   33.966667   \n",
       "8450   Documentary  Netflix Chrome MAC (Cadmium) HTML 5    0.533333   \n",
       "\n",
       "      type_target  \n",
       "157             1  \n",
       "158             0  \n",
       "160             1  \n",
       "162             1  \n",
       "165             1  \n",
       "...           ...  \n",
       "8444            1  \n",
       "8447            1  \n",
       "8448            1  \n",
       "8449            1  \n",
       "8450            0  \n",
       "\n",
       "[3335 rows x 10 columns]"
      ]
     },
     "execution_count": 49,
     "metadata": {},
     "output_type": "execute_result"
    }
   ],
   "source": [
    "data"
   ]
  },
  {
   "cell_type": "markdown",
   "id": "dbe94121-bc10-4978-8743-37753001c8eb",
   "metadata": {},
   "source": [
    "## Visuals"
   ]
  },
  {
   "cell_type": "markdown",
   "id": "2727d10a-e927-4df8-8aa3-db0fe8ffa211",
   "metadata": {},
   "source": [
    "Below are some visuals to gain more insight on the data:"
   ]
  },
  {
   "cell_type": "code",
   "execution_count": 50,
   "id": "a706b26d-5425-43ec-a8ae-efc86fcb1869",
   "metadata": {},
   "outputs": [],
   "source": [
    "# Summarize the data\n",
    "data_summed_genre = data.groupby('Genre', observed=True)['Minutes'].sum().reset_index() #Grouping the genres by the total minutes watched\n",
    "data_summed_devices = data.groupby('Device Type', observed=True)['Minutes'].sum().reset_index() #Grouping the devices used by total minutes watched\n",
    "data_summed_years = data.groupby('Year', observed=True)['Minutes'].sum().reset_index() #Grouping each year by the total minutes watched\n",
    "data_summed_months = data.groupby('Month Name',observed=True)['Minutes'].sum().reset_index() #Grouping each month name by the total minutes watched\n",
    "top_3_devices = data_summed_devices.nlargest(3, 'Minutes') #Taking the group by above and filtering it to show the top 3"
   ]
  },
  {
   "cell_type": "code",
   "execution_count": 51,
   "id": "5d267955-ec97-4ff7-8696-c2cec5456511",
   "metadata": {},
   "outputs": [
    {
     "data": {
      "image/png": "[encoded data removed]",
      "text/plain": [
       "<Figure size 1400x1200 with 4 Axes>"
      ]
     },
     "metadata": {},
     "output_type": "display_data"
    }
   ],
   "source": [
    "fig, axes = plt.subplots(nrows=2, ncols=2, figsize=(14, 12)) \n",
    "\n",
    "# Plot for the summed minutes by the top 3 devices used by 'Brettes' profile\n",
    "axes[0, 0].barh(top_3_devices['Device Type'], top_3_devices['Minutes'], color='skyblue') \n",
    "axes[0, 0].set_title('Summed Minutes by Top 3 Devices')\n",
    "axes[0, 0].set_xlabel('Minutes')\n",
    "axes[0, 0].set_ylabel('Device Type')\n",
    "\n",
    "# Plot for the summed minutes by each genre\n",
    "axes[1, 0].barh(data_summed_genre['Genre'], data_summed_genre['Minutes'], color='pink')\n",
    "axes[1, 0].set_title('Summed Minutes by Genre')\n",
    "axes[1, 0].set_xlabel('Minutes')\n",
    "axes[1, 0].set_ylabel('Genre')\n",
    "\n",
    "# Plot for the summed minutes by each month name\n",
    "axes[0, 1].barh(data_summed_months['Month Name'], data_summed_months['Minutes'], color='darkblue')\n",
    "axes[0, 1].set_title('Summed Minutes by Month')\n",
    "axes[0, 1].set_xlabel('Month')\n",
    "axes[0, 1].set_ylabel('Minutes')\n",
    "\n",
    "# Plot for the summed minutes by each year\n",
    "axes[1, 1].bar(data_summed_years['Year'], data_summed_years['Minutes'], color='yellow')\n",
    "axes[1, 1].set_title('Summed Minutes by Year')\n",
    "axes[1, 1].set_xlabel('Minutes')\n",
    "axes[1, 1].set_ylabel('Years')\n",
    "\n",
    "plt.show();"
   ]
  },
  {
   "cell_type": "markdown",
   "id": "c7a61025-4840-48d5-a2c0-f658ebb52211",
   "metadata": {},
   "source": [
    "Now we can begin the analysis."
   ]
  },
  {
   "cell_type": "markdown",
   "id": "860a8c2b-d5d3-4185-9552-2a307366d7af",
   "metadata": {},
   "source": [
    "## Analysis"
   ]
  },
  {
   "cell_type": "markdown",
   "id": "14b404bb-ae97-4fc9-96d5-0a33ca0752de",
   "metadata": {},
   "source": [
    "##### To begin I will import the necessary libraries to perform the autogluon module:"
   ]
  },
  {
   "cell_type": "code",
   "execution_count": 68,
   "id": "2c863716-7ce2-4bb3-8a6b-2e59bb6575f6",
   "metadata": {},
   "outputs": [],
   "source": [
    "from sklearn.model_selection import train_test_split\n",
    "from autogluon.tabular import TabularPredictor"
   ]
  },
  {
   "cell_type": "markdown",
   "id": "4e0f612a-441c-4c7f-bc09-794ac7e9ab12",
   "metadata": {},
   "source": [
    "##### 'Type' Target Values"
   ]
  },
  {
   "cell_type": "markdown",
   "id": "58caa6fb-b1b2-447d-959a-434b56f85123",
   "metadata": {},
   "source": [
    "Below are the current number of values that belong to both 'Shows' (1) and 'Movies (0)"
   ]
  },
  {
   "cell_type": "code",
   "execution_count": 53,
   "id": "53186283-5841-4a35-b28f-fbfc8575a7c6",
   "metadata": {},
   "outputs": [
    {
     "data": {
      "text/plain": [
       "type_target\n",
       "1    2107\n",
       "0    1228\n",
       "Name: count, dtype: int64"
      ]
     },
     "execution_count": 53,
     "metadata": {},
     "output_type": "execute_result"
    }
   ],
   "source": [
    "data['type_target'].value_counts()"
   ]
  },
  {
   "cell_type": "markdown",
   "id": "2337bd91-b0ee-4579-a981-95bd5d775b2e",
   "metadata": {},
   "source": [
    "#### Creating the Train Test Split"
   ]
  },
  {
   "cell_type": "markdown",
   "id": "1ddf479d-dce8-4071-a405-635d332df23f",
   "metadata": {},
   "source": [
    "Next, I will create a train test split for the autotabular predictor to read from:"
   ]
  },
  {
   "cell_type": "code",
   "execution_count": 67,
   "id": "5091a698-029b-4694-85b6-a49c12db71e5",
   "metadata": {},
   "outputs": [],
   "source": [
    "#passing the train test split to both train_df which will be passed through the TabularPredictor, and test_df which we will compare the results to\n",
    "train_df, test_df = train_test_split(data, test_size=0.3, random_state=None, stratify=data['type_target'])"
   ]
  },
  {
   "cell_type": "markdown",
   "id": "baf994d2-5fc5-42b1-9331-be3a06087471",
   "metadata": {},
   "source": [
    "#### Setting the Predictor"
   ]
  },
  {
   "cell_type": "markdown",
   "id": "47de1c98-1f7e-44db-b233-117a76e2fd98",
   "metadata": {},
   "source": [
    "Below I am creating the tabular predictor to fit the training data to, the label is the target value, problem_type = 'regression is specifying the type of prediction the autotabular module will make, and the path is where the model pipeline will be stored for future use."
   ]
  },
  {
   "cell_type": "code",
   "execution_count": 55,
   "id": "b4598f34-e755-4e8c-ae6c-e0e41cdfec4f",
   "metadata": {},
   "outputs": [
    {
     "name": "stderr",
     "output_type": "stream",
     "text": [
      "Warning: path already exists! This predictor may overwrite an existing predictor! path=\"netflix_regression\"\n"
     ]
    }
   ],
   "source": [
    "predictor = TabularPredictor(label='type_target', problem_type='regression',path='netflix_regression')"
   ]
  },
  {
   "cell_type": "markdown",
   "id": "72a96306-b90d-4954-b8a4-c738f2e40b10",
   "metadata": {},
   "source": [
    "#### Fitting Model"
   ]
  },
  {
   "cell_type": "markdown",
   "id": "0efe356d-6969-4ecf-8c7f-f9090f0752d2",
   "metadata": {},
   "source": [
    "Using the 'predictor' model variable I created above, I will now fit the training data for the autotabular analysis:"
   ]
  },
  {
   "cell_type": "code",
   "execution_count": 56,
   "id": "d096e2b9-b3f9-4f1f-baa5-c9faa6032340",
   "metadata": {},
   "outputs": [
    {
     "name": "stderr",
     "output_type": "stream",
     "text": [
      "Verbosity: 2 (Standard Logging)\n",
      "=================== System Info ===================\n",
      "AutoGluon Version:  1.2\n",
      "Python Version:     3.11.11\n",
      "Operating System:   Windows\n",
      "Platform Machine:   AMD64\n",
      "Platform Version:   10.0.26100\n",
      "CPU Count:          16\n",
      "Memory Avail:       2.46 GB / 15.68 GB (15.7%)\n",
      "Disk Space Avail:   656.03 GB / 927.56 GB (70.7%)\n",
      "===================================================\n",
      "No presets specified! To achieve strong results with AutoGluon, it is recommended to use the available presets. Defaulting to `'medium'`...\n",
      "\tRecommended Presets (For more details refer to https://auto.gluon.ai/stable/tutorials/tabular/tabular-essentials.html#presets):\n",
      "\tpresets='experimental' : New in v1.2: Pre-trained foundation model + parallel fits. The absolute best accuracy without consideration for inference speed. Does not support GPU.\n",
      "\tpresets='best'         : Maximize accuracy. Recommended for most users. Use in competitions and benchmarks.\n",
      "\tpresets='high'         : Strong accuracy with fast inference speed.\n",
      "\tpresets='good'         : Good accuracy with very fast inference speed.\n",
      "\tpresets='medium'       : Fast training time, ideal for initial prototyping.\n",
      "Beginning AutoGluon training ...\n",
      "AutoGluon will save models to \"C:\\Users\\coste\\GitHub\\Applied Data Science\\netflix_regression\"\n",
      "Train Data Rows:    2334\n",
      "Train Data Columns: 9\n",
      "Label Column:       type_target\n",
      "Problem Type:       regression\n",
      "Preprocessing data ...\n",
      "Using Feature Generators to preprocess the data ...\n",
      "Fitting AutoMLPipelineFeatureGenerator...\n",
      "\tAvailable Memory:                    2518.60 MB\n",
      "\tTrain Data (Original)  Memory Usage: 0.19 MB (0.0% of available memory)\n",
      "\tInferring data type of each feature based on column values. Set feature_metadata_in to manually specify special dtypes of the features.\n",
      "\tStage 1 Generators:\n",
      "\t\tFitting AsTypeFeatureGenerator...\n",
      "\tStage 2 Generators:\n",
      "\t\tFitting FillNaFeatureGenerator...\n",
      "\tStage 3 Generators:\n",
      "\t\tFitting IdentityFeatureGenerator...\n",
      "\t\tFitting CategoryFeatureGenerator...\n",
      "\t\t\tFitting CategoryMemoryMinimizeFeatureGenerator...\n",
      "\tStage 4 Generators:\n",
      "\t\tFitting DropUniqueFeatureGenerator...\n",
      "\tStage 5 Generators:\n",
      "\t\tFitting DropDuplicatesFeatureGenerator...\n",
      "\tUseless Original Features (Count: 1): ['Profile Name']\n",
      "\t\tThese features carry no predictive signal and should be manually investigated.\n",
      "\t\tThis is typically a feature which has the same value for all rows.\n",
      "\t\tThese features do not need to be present at inference time.\n",
      "\tTypes of features in original data (raw dtype, special dtypes):\n",
      "\t\t('category', []) : 4 | ['Month Name', 'Title', 'Genre', 'Device Type']\n",
      "\t\t('float', [])    : 1 | ['Minutes']\n",
      "\t\t('int', [])      : 3 | ['Year', 'Month', 'Day']\n",
      "\tTypes of features in processed data (raw dtype, special dtypes):\n",
      "\t\t('category', []) : 4 | ['Month Name', 'Title', 'Genre', 'Device Type']\n",
      "\t\t('float', [])    : 1 | ['Minutes']\n",
      "\t\t('int', [])      : 3 | ['Year', 'Month', 'Day']\n",
      "\t0.2s = Fit runtime\n",
      "\t8 features in original data used to generate 8 features in processed data.\n",
      "\tTrain Data (Processed) Memory Usage: 0.06 MB (0.0% of available memory)\n",
      "Data preprocessing and feature engineering runtime = 0.25s ...\n",
      "AutoGluon will gauge predictive performance using evaluation metric: 'root_mean_squared_error'\n",
      "\tThis metric's sign has been flipped to adhere to being higher_is_better. The metric score can be multiplied by -1 to get the metric value.\n",
      "\tTo change this, specify the eval_metric parameter of Predictor()\n",
      "Automatically generating train/validation split with holdout_frac=0.2, Train Rows: 1867, Val Rows: 467\n",
      "User-specified model hyperparameters to be fit:\n",
      "{\n",
      "\t'NN_TORCH': [{}],\n",
      "\t'GBM': [{'extra_trees': True, 'ag_args': {'name_suffix': 'XT'}}, {}, {'learning_rate': 0.03, 'num_leaves': 128, 'feature_fraction': 0.9, 'min_data_in_leaf': 3, 'ag_args': {'name_suffix': 'Large', 'priority': 0, 'hyperparameter_tune_kwargs': None}}],\n",
      "\t'CAT': [{}],\n",
      "\t'XGB': [{}],\n",
      "\t'FASTAI': [{}],\n",
      "\t'RF': [{'criterion': 'gini', 'ag_args': {'name_suffix': 'Gini', 'problem_types': ['binary', 'multiclass']}}, {'criterion': 'entropy', 'ag_args': {'name_suffix': 'Entr', 'problem_types': ['binary', 'multiclass']}}, {'criterion': 'squared_error', 'ag_args': {'name_suffix': 'MSE', 'problem_types': ['regression', 'quantile']}}],\n",
      "\t'XT': [{'criterion': 'gini', 'ag_args': {'name_suffix': 'Gini', 'problem_types': ['binary', 'multiclass']}}, {'criterion': 'entropy', 'ag_args': {'name_suffix': 'Entr', 'problem_types': ['binary', 'multiclass']}}, {'criterion': 'squared_error', 'ag_args': {'name_suffix': 'MSE', 'problem_types': ['regression', 'quantile']}}],\n",
      "\t'KNN': [{'weights': 'uniform', 'ag_args': {'name_suffix': 'Unif'}}, {'weights': 'distance', 'ag_args': {'name_suffix': 'Dist'}}],\n",
      "}\n",
      "Fitting 11 L1 models, fit_strategy=\"sequential\" ...\n",
      "Fitting model: KNeighborsUnif ...\n",
      "\t-0.5062\t = Validation score   (-root_mean_squared_error)\n",
      "\t0.02s\t = Training   runtime\n",
      "\t0.07s\t = Validation runtime\n",
      "Fitting model: KNeighborsDist ...\n",
      "\t-0.5042\t = Validation score   (-root_mean_squared_error)\n",
      "\t0.02s\t = Training   runtime\n",
      "\t0.1s\t = Validation runtime\n",
      "Fitting model: LightGBMXT ...\n"
     ]
    },
    {
     "name": "stdout",
     "output_type": "stream",
     "text": [
      "[1000]\tvalid_set's rmse: 0.211131\n",
      "[2000]\tvalid_set's rmse: 0.207714\n"
     ]
    },
    {
     "name": "stderr",
     "output_type": "stream",
     "text": [
      "\t-0.2075\t = Validation score   (-root_mean_squared_error)\n",
      "\t28.47s\t = Training   runtime\n",
      "\t0.18s\t = Validation runtime\n",
      "Fitting model: LightGBM ...\n",
      "\t-0.195\t = Validation score   (-root_mean_squared_error)\n",
      "\t7.0s\t = Training   runtime\n",
      "\t0.05s\t = Validation runtime\n",
      "Fitting model: RandomForestMSE ...\n",
      "\t-0.2295\t = Validation score   (-root_mean_squared_error)\n",
      "\t2.11s\t = Training   runtime\n",
      "\t0.25s\t = Validation runtime\n",
      "Fitting model: CatBoost ...\n",
      "\t-0.1279\t = Validation score   (-root_mean_squared_error)\n",
      "\t62.94s\t = Training   runtime\n",
      "\t0.02s\t = Validation runtime\n",
      "Fitting model: ExtraTreesMSE ...\n",
      "\t-0.2262\t = Validation score   (-root_mean_squared_error)\n",
      "\t1.73s\t = Training   runtime\n",
      "\t0.17s\t = Validation runtime\n",
      "Fitting model: NeuralNetFastAI ...\n",
      "\t-0.1365\t = Validation score   (-root_mean_squared_error)\n",
      "\t10.35s\t = Training   runtime\n",
      "\t0.05s\t = Validation runtime\n",
      "Fitting model: XGBoost ...\n",
      "\t-0.1893\t = Validation score   (-root_mean_squared_error)\n",
      "\t2.22s\t = Training   runtime\n",
      "\t0.02s\t = Validation runtime\n",
      "Fitting model: NeuralNetTorch ...\n",
      "\t-0.2219\t = Validation score   (-root_mean_squared_error)\n",
      "\t133.37s\t = Training   runtime\n",
      "\t0.03s\t = Validation runtime\n",
      "Fitting model: LightGBMLarge ...\n",
      "\t-0.2263\t = Validation score   (-root_mean_squared_error)\n",
      "\t12.84s\t = Training   runtime\n",
      "\t0.03s\t = Validation runtime\n",
      "Fitting model: WeightedEnsemble_L2 ...\n",
      "\tEnsemble Weights: {'CatBoost': 0.957, 'LightGBM': 0.043}\n",
      "\t-0.1278\t = Validation score   (-root_mean_squared_error)\n",
      "\t0.05s\t = Training   runtime\n",
      "\t0.0s\t = Validation runtime\n",
      "AutoGluon training complete, total runtime = 263.55s ... Best model: WeightedEnsemble_L2 | Estimated inference throughput: 7414.2 rows/s (467 batch size)\n",
      "TabularPredictor saved. To load, use: predictor = TabularPredictor.load(\"C:\\Users\\coste\\GitHub\\Applied Data Science\\netflix_regression\")\n"
     ]
    },
    {
     "data": {
      "text/plain": [
       "<autogluon.tabular.predictor.predictor.TabularPredictor at 0x2947fc51d90>"
      ]
     },
     "execution_count": 56,
     "metadata": {},
     "output_type": "execute_result"
    }
   ],
   "source": [
    "predictor.fit(train_df)"
   ]
  },
  {
   "cell_type": "markdown",
   "id": "fd2763ff-f7da-433d-967e-9bd3f83cade5",
   "metadata": {},
   "source": [
    "### Summary of Autotabular Model Results"
   ]
  },
  {
   "cell_type": "markdown",
   "id": "798bd77f-7b83-4db7-a686-3b24f1bd8241",
   "metadata": {},
   "source": [
    "Once the model is fitted, I can now use the model variable to create a summary of the results. You can see below that the highest score was WeightedEnsemble with a score of 12.77 for the root mean squared error, followed by CatBoost with a root mean error squared score of 12.79 since it produced the least amount of errors while making predictions for the data."
   ]
  },
  {
   "cell_type": "code",
   "execution_count": 57,
   "id": "e5c43b30-e5fe-4c0a-857c-282d24358975",
   "metadata": {},
   "outputs": [
    {
     "name": "stdout",
     "output_type": "stream",
     "text": [
      "*** Summary of fit() ***\n",
      "Estimated performance of each model:\n",
      "                  model  score_val              eval_metric  pred_time_val    fit_time  pred_time_val_marginal  fit_time_marginal  stack_level  can_infer  fit_order\n",
      "0   WeightedEnsemble_L2  -0.127772  root_mean_squared_error       0.062987   69.981583                0.000000           0.046019            2       True         12\n",
      "1              CatBoost  -0.127941  root_mean_squared_error       0.016482   62.937331                0.016482          62.937331            1       True          6\n",
      "2       NeuralNetFastAI  -0.136451  root_mean_squared_error       0.048168   10.352901                0.048168          10.352901            1       True          8\n",
      "3               XGBoost  -0.189307  root_mean_squared_error       0.019917    2.217342                0.019917           2.217342            1       True          9\n",
      "4              LightGBM  -0.195034  root_mean_squared_error       0.046505    6.998234                0.046505           6.998234            1       True          4\n",
      "5            LightGBMXT  -0.207527  root_mean_squared_error       0.176167   28.471076                0.176167          28.471076            1       True          3\n",
      "6        NeuralNetTorch  -0.221908  root_mean_squared_error       0.033121  133.367271                0.033121         133.367271            1       True         10\n",
      "7         ExtraTreesMSE  -0.226159  root_mean_squared_error       0.171844    1.727148                0.171844           1.727148            1       True          7\n",
      "8         LightGBMLarge  -0.226296  root_mean_squared_error       0.031694   12.842951                0.031694          12.842951            1       True         11\n",
      "9       RandomForestMSE  -0.229478  root_mean_squared_error       0.246947    2.105334                0.246947           2.105334            1       True          5\n",
      "10       KNeighborsDist  -0.504166  root_mean_squared_error       0.100297    0.022686                0.100297           0.022686            1       True          2\n",
      "11       KNeighborsUnif  -0.506151  root_mean_squared_error       0.068099    0.016632                0.068099           0.016632            1       True          1\n",
      "Number of models trained: 12\n",
      "Types of models trained:\n",
      "{'CatBoostModel', 'KNNModel', 'TabularNeuralNetTorchModel', 'LGBModel', 'XGBoostModel', 'XTModel', 'RFModel', 'WeightedEnsembleModel', 'NNFastAiTabularModel'}\n",
      "Bagging used: False \n",
      "Multi-layer stack-ensembling used: False \n",
      "Feature Metadata (Processed):\n",
      "(raw dtype, special dtypes):\n",
      "('category', []) : 4 | ['Month Name', 'Title', 'Genre', 'Device Type']\n",
      "('float', [])    : 1 | ['Minutes']\n",
      "('int', [])      : 3 | ['Year', 'Month', 'Day']\n",
      "*** End of fit() summary ***\n"
     ]
    },
    {
     "name": "stderr",
     "output_type": "stream",
     "text": [
      "C:\\Users\\coste\\miniconda3\\envs\\tabular\\Lib\\site-packages\\fastai\\learner.py:455: UserWarning: load_learner` uses Python's insecure pickle module, which can execute malicious arbitrary code when loading. Only load files you trust.\n",
      "If you only need to load model weights and optimizer state, use the safe `Learner.load` instead.\n",
      "  warn(\"load_learner` uses Python's insecure pickle module, which can execute malicious arbitrary code when loading. Only load files you trust.\\nIf you only need to load model weights and optimizer state, use the safe `Learner.load` instead.\")\n",
      "C:\\Users\\coste\\miniconda3\\envs\\tabular\\Lib\\site-packages\\autogluon\\core\\utils\\plots.py:169: UserWarning: AutoGluon summary plots cannot be created because bokeh is not installed. To see plots, please do: \"pip install bokeh==2.0.1\"\n",
      "  warnings.warn('AutoGluon summary plots cannot be created because bokeh is not installed. To see plots, please do: \"pip install bokeh==2.0.1\"')\n"
     ]
    },
    {
     "data": {
      "text/plain": [
       "{'model_types': {'KNeighborsUnif': 'KNNModel',\n",
       "  'KNeighborsDist': 'KNNModel',\n",
       "  'LightGBMXT': 'LGBModel',\n",
       "  'LightGBM': 'LGBModel',\n",
       "  'RandomForestMSE': 'RFModel',\n",
       "  'CatBoost': 'CatBoostModel',\n",
       "  'ExtraTreesMSE': 'XTModel',\n",
       "  'NeuralNetFastAI': 'NNFastAiTabularModel',\n",
       "  'XGBoost': 'XGBoostModel',\n",
       "  'NeuralNetTorch': 'TabularNeuralNetTorchModel',\n",
       "  'LightGBMLarge': 'LGBModel',\n",
       "  'WeightedEnsemble_L2': 'WeightedEnsembleModel'},\n",
       " 'model_performance': {'KNeighborsUnif': -0.5061506069694024,\n",
       "  'KNeighborsDist': -0.5041658929802826,\n",
       "  'LightGBMXT': -0.207526775770575,\n",
       "  'LightGBM': -0.19503411544882615,\n",
       "  'RandomForestMSE': -0.22947814410674344,\n",
       "  'CatBoost': -0.12794137169051573,\n",
       "  'ExtraTreesMSE': -0.22615873977697382,\n",
       "  'NeuralNetFastAI': -0.13645134814742146,\n",
       "  'XGBoost': -0.18930691057148605,\n",
       "  'NeuralNetTorch': -0.22190848612153094,\n",
       "  'LightGBMLarge': -0.22629648781017192,\n",
       "  'WeightedEnsemble_L2': -0.1277718936044195},\n",
       " 'model_best': 'WeightedEnsemble_L2',\n",
       " 'model_paths': {'KNeighborsUnif': ['KNeighborsUnif'],\n",
       "  'KNeighborsDist': ['KNeighborsDist'],\n",
       "  'LightGBMXT': ['LightGBMXT'],\n",
       "  'LightGBM': ['LightGBM'],\n",
       "  'RandomForestMSE': ['RandomForestMSE'],\n",
       "  'CatBoost': ['CatBoost'],\n",
       "  'ExtraTreesMSE': ['ExtraTreesMSE'],\n",
       "  'NeuralNetFastAI': ['NeuralNetFastAI'],\n",
       "  'XGBoost': ['XGBoost'],\n",
       "  'NeuralNetTorch': ['NeuralNetTorch'],\n",
       "  'LightGBMLarge': ['LightGBMLarge'],\n",
       "  'WeightedEnsemble_L2': ['WeightedEnsemble_L2']},\n",
       " 'model_fit_times': {'KNeighborsUnif': 0.016631603240966797,\n",
       "  'KNeighborsDist': 0.022685766220092773,\n",
       "  'LightGBMXT': 28.471075534820557,\n",
       "  'LightGBM': 6.998234033584595,\n",
       "  'RandomForestMSE': 2.1053338050842285,\n",
       "  'CatBoost': 62.93733072280884,\n",
       "  'ExtraTreesMSE': 1.7271478176116943,\n",
       "  'NeuralNetFastAI': 10.352901458740234,\n",
       "  'XGBoost': 2.2173423767089844,\n",
       "  'NeuralNetTorch': 133.36727118492126,\n",
       "  'LightGBMLarge': 12.842950582504272,\n",
       "  'WeightedEnsemble_L2': 0.04601860046386719},\n",
       " 'model_pred_times': {'KNeighborsUnif': 0.0680992603302002,\n",
       "  'KNeighborsDist': 0.10029721260070801,\n",
       "  'LightGBMXT': 0.17616653442382812,\n",
       "  'LightGBM': 0.04650473594665527,\n",
       "  'RandomForestMSE': 0.2469472885131836,\n",
       "  'CatBoost': 0.016482114791870117,\n",
       "  'ExtraTreesMSE': 0.1718442440032959,\n",
       "  'NeuralNetFastAI': 0.04816842079162598,\n",
       "  'XGBoost': 0.019917011260986328,\n",
       "  'NeuralNetTorch': 0.03312087059020996,\n",
       "  'LightGBMLarge': 0.03169417381286621,\n",
       "  'WeightedEnsemble_L2': 0.0},\n",
       " 'num_bag_folds': 0,\n",
       " 'max_stack_level': 2,\n",
       " 'model_hyperparams': {'KNeighborsUnif': {'weights': 'uniform'},\n",
       "  'KNeighborsDist': {'weights': 'distance'},\n",
       "  'LightGBMXT': {'learning_rate': 0.05, 'extra_trees': True},\n",
       "  'LightGBM': {'learning_rate': 0.05},\n",
       "  'RandomForestMSE': {'n_estimators': 300,\n",
       "   'max_leaf_nodes': 15000,\n",
       "   'n_jobs': -1,\n",
       "   'random_state': 0,\n",
       "   'bootstrap': True,\n",
       "   'criterion': 'squared_error'},\n",
       "  'CatBoost': {'iterations': 10000,\n",
       "   'learning_rate': 0.05,\n",
       "   'random_seed': 0,\n",
       "   'allow_writing_files': False,\n",
       "   'eval_metric': 'RMSE'},\n",
       "  'ExtraTreesMSE': {'n_estimators': 300,\n",
       "   'max_leaf_nodes': 15000,\n",
       "   'n_jobs': -1,\n",
       "   'random_state': 0,\n",
       "   'bootstrap': True,\n",
       "   'criterion': 'squared_error'},\n",
       "  'NeuralNetFastAI': {'layers': None,\n",
       "   'emb_drop': 0.1,\n",
       "   'ps': 0.1,\n",
       "   'bs': 'auto',\n",
       "   'lr': 0.01,\n",
       "   'epochs': 'auto',\n",
       "   'early.stopping.min_delta': 0.0001,\n",
       "   'early.stopping.patience': 20,\n",
       "   'smoothing': 0.0},\n",
       "  'XGBoost': {'n_estimators': 10000,\n",
       "   'learning_rate': 0.1,\n",
       "   'n_jobs': -1,\n",
       "   'proc.max_category_levels': 100,\n",
       "   'objective': 'reg:squarederror',\n",
       "   'booster': 'gbtree'},\n",
       "  'NeuralNetTorch': {'num_epochs': 1000,\n",
       "   'epochs_wo_improve': None,\n",
       "   'activation': 'relu',\n",
       "   'embedding_size_factor': 1.0,\n",
       "   'embed_exponent': 0.56,\n",
       "   'max_embedding_dim': 100,\n",
       "   'y_range': None,\n",
       "   'y_range_extend': 0.05,\n",
       "   'dropout_prob': 0.1,\n",
       "   'optimizer': 'adam',\n",
       "   'learning_rate': 0.0003,\n",
       "   'weight_decay': 1e-06,\n",
       "   'proc.embed_min_categories': 4,\n",
       "   'proc.impute_strategy': 'median',\n",
       "   'proc.max_category_levels': 100,\n",
       "   'proc.skew_threshold': 0.99,\n",
       "   'use_ngram_features': False,\n",
       "   'num_layers': 4,\n",
       "   'hidden_size': 128,\n",
       "   'max_batch_size': 512,\n",
       "   'use_batchnorm': False,\n",
       "   'loss_function': 'auto'},\n",
       "  'LightGBMLarge': {'learning_rate': 0.03,\n",
       "   'num_leaves': 128,\n",
       "   'feature_fraction': 0.9,\n",
       "   'min_data_in_leaf': 3},\n",
       "  'WeightedEnsemble_L2': {'use_orig_features': False,\n",
       "   'valid_stacker': True,\n",
       "   'max_base_models': 0,\n",
       "   'max_base_models_per_type': 'auto',\n",
       "   'save_bag_folds': True}},\n",
       " 'leaderboard':                   model  score_val              eval_metric  pred_time_val  \\\n",
       " 0   WeightedEnsemble_L2  -0.127772  root_mean_squared_error       0.062987   \n",
       " 1              CatBoost  -0.127941  root_mean_squared_error       0.016482   \n",
       " 2       NeuralNetFastAI  -0.136451  root_mean_squared_error       0.048168   \n",
       " 3               XGBoost  -0.189307  root_mean_squared_error       0.019917   \n",
       " 4              LightGBM  -0.195034  root_mean_squared_error       0.046505   \n",
       " 5            LightGBMXT  -0.207527  root_mean_squared_error       0.176167   \n",
       " 6        NeuralNetTorch  -0.221908  root_mean_squared_error       0.033121   \n",
       " 7         ExtraTreesMSE  -0.226159  root_mean_squared_error       0.171844   \n",
       " 8         LightGBMLarge  -0.226296  root_mean_squared_error       0.031694   \n",
       " 9       RandomForestMSE  -0.229478  root_mean_squared_error       0.246947   \n",
       " 10       KNeighborsDist  -0.504166  root_mean_squared_error       0.100297   \n",
       " 11       KNeighborsUnif  -0.506151  root_mean_squared_error       0.068099   \n",
       " \n",
       "       fit_time  pred_time_val_marginal  fit_time_marginal  stack_level  \\\n",
       " 0    69.981583                0.000000           0.046019            2   \n",
       " 1    62.937331                0.016482          62.937331            1   \n",
       " 2    10.352901                0.048168          10.352901            1   \n",
       " 3     2.217342                0.019917           2.217342            1   \n",
       " 4     6.998234                0.046505           6.998234            1   \n",
       " 5    28.471076                0.176167          28.471076            1   \n",
       " 6   133.367271                0.033121         133.367271            1   \n",
       " 7     1.727148                0.171844           1.727148            1   \n",
       " 8    12.842951                0.031694          12.842951            1   \n",
       " 9     2.105334                0.246947           2.105334            1   \n",
       " 10    0.022686                0.100297           0.022686            1   \n",
       " 11    0.016632                0.068099           0.016632            1   \n",
       " \n",
       "     can_infer  fit_order  \n",
       " 0        True         12  \n",
       " 1        True          6  \n",
       " 2        True          8  \n",
       " 3        True          9  \n",
       " 4        True          4  \n",
       " 5        True          3  \n",
       " 6        True         10  \n",
       " 7        True          7  \n",
       " 8        True         11  \n",
       " 9        True          5  \n",
       " 10       True          2  \n",
       " 11       True          1  }"
      ]
     },
     "execution_count": 57,
     "metadata": {},
     "output_type": "execute_result"
    }
   ],
   "source": [
    "predictor.fit_summary()"
   ]
  },
  {
   "cell_type": "markdown",
   "id": "fecd901b-3ea1-4318-b111-2d50c9223d6b",
   "metadata": {},
   "source": [
    "### Metrics"
   ]
  },
  {
   "cell_type": "markdown",
   "id": "c4e51e26-fbc9-4777-9600-72d9975c94fe",
   "metadata": {},
   "source": [
    "To see all of the metrics for the model, I will now create two separate variables and compare them to one another using autotabular's evaluation feature to see how well the model did compared to the true test results of the original data."
   ]
  },
  {
   "cell_type": "code",
   "execution_count": 69,
   "id": "a0f61f9f-7ff6-44b0-a95c-b823c2cef823",
   "metadata": {},
   "outputs": [],
   "source": [
    "y_test = test_df['type_target'] #passing the test_df created in the train test split above to y_test"
   ]
  },
  {
   "cell_type": "code",
   "execution_count": 70,
   "id": "c50b05be-8956-468c-b5df-6127f4137c10",
   "metadata": {},
   "outputs": [],
   "source": [
    "test_data = test_df.drop(columns='type_target') #creating 'X' from test_df to compare to the target value and passing it to the variable test_data"
   ]
  },
  {
   "cell_type": "code",
   "execution_count": 64,
   "id": "7bf0ed0c-f80f-4976-9380-1df4a450d142",
   "metadata": {},
   "outputs": [],
   "source": [
    "y_pred = predictor.predict(test_data) #Passing the predictions from the test_data to y_pred"
   ]
  },
  {
   "cell_type": "code",
   "execution_count": 65,
   "id": "73934ee3-8f09-4291-9551-a52e9f47b208",
   "metadata": {},
   "outputs": [
    {
     "data": {
      "text/plain": [
       "{'root_mean_squared_error': 0.11980863156451285,\n",
       " 'mean_squared_error': 0.014354108197361184,\n",
       " 'mean_absolute_error': 0.03452726678488279,\n",
       " 'r2': 0.9383261799812317,\n",
       " 'pearsonr': 0.9687473117214702,\n",
       " 'median_absolute_error': 0.005208015441894531}"
      ]
     },
     "execution_count": 65,
     "metadata": {},
     "output_type": "execute_result"
    }
   ],
   "source": [
    "metrics = predictor.evaluate_predictions(y_true=y_test, y_pred=y_pred, auxiliary_metrics=True) #passing y_test to y_true, and y_pred to y_pred to compare the true dataset results to the model's predictions \n",
    "#auxiliary_metrics=True to get more metrics other than 'RMSE'\n",
    "metrics\n",
    "\n",
    "absolute_metrics = {key: abs(value) for key, value in metrics.items()} #creating an absolute metrics evaluation from the metrics above to replace negative values with positive values for the actual scores\n",
    "absolute_metrics"
   ]
  },
  {
   "cell_type": "markdown",
   "id": "4c6076be-2018-43d5-b2dc-20965c0fe535",
   "metadata": {},
   "source": [
    "#### Features Importance"
   ]
  },
  {
   "cell_type": "markdown",
   "id": "a66d8d83-45ef-4c35-bf1e-480fa0057bdc",
   "metadata": {},
   "source": [
    "Below are the features contained in the dataframe, these are listed from the features that were least to most important in regards to the creation of the autotabular regression model"
   ]
  },
  {
   "cell_type": "code",
   "execution_count": 66,
   "id": "6ffa5080-9086-49d8-b0bf-4d671913e16e",
   "metadata": {},
   "outputs": [
    {
     "name": "stderr",
     "output_type": "stream",
     "text": [
      "These features in provided data are not utilized by the predictor and will be ignored: ['Profile Name']\n",
      "Computing feature importance via permutation shuffling for 8 features using 1001 rows with 5 shuffle sets...\n",
      "\t7.32s\t= Expected runtime (1.46s per shuffle set)\n",
      "\t0.98s\t= Actual runtime (Completed 5 of 5 shuffle sets)\n"
     ]
    },
    {
     "data": {
      "text/html": [
       "<div>\n",
       "<style scoped>\n",
       "    .dataframe tbody tr th:only-of-type {\n",
       "        vertical-align: middle;\n",
       "    }\n",
       "\n",
       "    .dataframe tbody tr th {\n",
       "        vertical-align: top;\n",
       "    }\n",
       "\n",
       "    .dataframe thead th {\n",
       "        text-align: right;\n",
       "    }\n",
       "</style>\n",
       "<table border=\"1\" class=\"dataframe\">\n",
       "  <thead>\n",
       "    <tr style=\"text-align: right;\">\n",
       "      <th></th>\n",
       "      <th>importance</th>\n",
       "      <th>stddev</th>\n",
       "      <th>p_value</th>\n",
       "      <th>n</th>\n",
       "      <th>p99_high</th>\n",
       "      <th>p99_low</th>\n",
       "    </tr>\n",
       "  </thead>\n",
       "  <tbody>\n",
       "    <tr>\n",
       "      <th>Title</th>\n",
       "      <td>0.493695</td>\n",
       "      <td>0.011969</td>\n",
       "      <td>4.142370e-08</td>\n",
       "      <td>5</td>\n",
       "      <td>0.518340</td>\n",
       "      <td>0.469051</td>\n",
       "    </tr>\n",
       "    <tr>\n",
       "      <th>Genre</th>\n",
       "      <td>0.065725</td>\n",
       "      <td>0.004176</td>\n",
       "      <td>1.945199e-06</td>\n",
       "      <td>5</td>\n",
       "      <td>0.074323</td>\n",
       "      <td>0.057126</td>\n",
       "    </tr>\n",
       "    <tr>\n",
       "      <th>Year</th>\n",
       "      <td>0.003566</td>\n",
       "      <td>0.000473</td>\n",
       "      <td>3.631882e-05</td>\n",
       "      <td>5</td>\n",
       "      <td>0.004540</td>\n",
       "      <td>0.002592</td>\n",
       "    </tr>\n",
       "    <tr>\n",
       "      <th>Month Name</th>\n",
       "      <td>0.002679</td>\n",
       "      <td>0.001008</td>\n",
       "      <td>2.012789e-03</td>\n",
       "      <td>5</td>\n",
       "      <td>0.004756</td>\n",
       "      <td>0.000603</td>\n",
       "    </tr>\n",
       "    <tr>\n",
       "      <th>Device Type</th>\n",
       "      <td>0.002429</td>\n",
       "      <td>0.000629</td>\n",
       "      <td>4.949867e-04</td>\n",
       "      <td>5</td>\n",
       "      <td>0.003724</td>\n",
       "      <td>0.001133</td>\n",
       "    </tr>\n",
       "    <tr>\n",
       "      <th>Minutes</th>\n",
       "      <td>0.001790</td>\n",
       "      <td>0.000473</td>\n",
       "      <td>5.349762e-04</td>\n",
       "      <td>5</td>\n",
       "      <td>0.002765</td>\n",
       "      <td>0.000816</td>\n",
       "    </tr>\n",
       "    <tr>\n",
       "      <th>Month</th>\n",
       "      <td>0.000885</td>\n",
       "      <td>0.000203</td>\n",
       "      <td>3.127023e-04</td>\n",
       "      <td>5</td>\n",
       "      <td>0.001304</td>\n",
       "      <td>0.000466</td>\n",
       "    </tr>\n",
       "    <tr>\n",
       "      <th>Day</th>\n",
       "      <td>0.000767</td>\n",
       "      <td>0.000378</td>\n",
       "      <td>5.247604e-03</td>\n",
       "      <td>5</td>\n",
       "      <td>0.001545</td>\n",
       "      <td>-0.000011</td>\n",
       "    </tr>\n",
       "  </tbody>\n",
       "</table>\n",
       "</div>"
      ],
      "text/plain": [
       "             importance    stddev       p_value  n  p99_high   p99_low\n",
       "Title          0.493695  0.011969  4.142370e-08  5  0.518340  0.469051\n",
       "Genre          0.065725  0.004176  1.945199e-06  5  0.074323  0.057126\n",
       "Year           0.003566  0.000473  3.631882e-05  5  0.004540  0.002592\n",
       "Month Name     0.002679  0.001008  2.012789e-03  5  0.004756  0.000603\n",
       "Device Type    0.002429  0.000629  4.949867e-04  5  0.003724  0.001133\n",
       "Minutes        0.001790  0.000473  5.349762e-04  5  0.002765  0.000816\n",
       "Month          0.000885  0.000203  3.127023e-04  5  0.001304  0.000466\n",
       "Day            0.000767  0.000378  5.247604e-03  5  0.001545 -0.000011"
      ]
     },
     "execution_count": 66,
     "metadata": {},
     "output_type": "execute_result"
    }
   ],
   "source": [
    "importance = predictor.feature_importance(test_df)\n",
    "importance"
   ]
  },
  {
   "cell_type": "markdown",
   "id": "84943dc2-5413-4e4c-95fb-a78a5da70edc",
   "metadata": {},
   "source": [
    "## Summary"
   ]
  },
  {
   "cell_type": "markdown",
   "id": "eb0ca1c6-f8f3-443f-9226-38deea2acbb6",
   "metadata": {},
   "source": [
    "In conclusion, the autotabular model did not perform well with a low R2 score of 9.3%, however the RMSE score was lower at 11.9% compared to the original value in the autotabular model which is considered better. Given that there is not a lot of correlation in the data a model with a lower accuracy was expected."
   ]
  }
 ],
 "metadata": {
  "kernelspec": {
   "display_name": "Python 3 (ipykernel)",
   "language": "python",
   "name": "python3"
  },
  "language_info": {
   "codemirror_mode": {
    "name": "ipython",
    "version": 3
   },
   "file_extension": ".py",
   "mimetype": "text/x-python",
   "name": "python",
   "nbconvert_exporter": "python",
   "pygments_lexer": "ipython3",
   "version": "3.11.11"
  }
 },
 "nbformat": 4,
 "nbformat_minor": 5
}
